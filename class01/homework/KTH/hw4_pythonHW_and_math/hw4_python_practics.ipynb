{
  "nbformat": 4,
  "nbformat_minor": 0,
  "metadata": {
    "colab": {
      "provenance": []
    },
    "kernelspec": {
      "name": "python3",
      "display_name": "Python 3"
    },
    "language_info": {
      "name": "python"
    }
  },
  "cells": [
    {
      "cell_type": "code",
      "source": [
        "thisdict = {\n",
        "    \"brand\" : \"Ford\",\n",
        "    \"model\" : \"Mustang\",\n",
        "    \"year\" : 1964\n",
        "}\n",
        "print(thisdict[\"brand\"])\n",
        "print(type(thisdict))"
      ],
      "metadata": {
        "colab": {
          "base_uri": "https://localhost:8080/"
        },
        "id": "mGsLNsV0HA2M",
        "outputId": "5e4a762e-04b7-4195-fe67-c7ca7faf8153"
      },
      "execution_count": 27,
      "outputs": [
        {
          "output_type": "stream",
          "name": "stdout",
          "text": [
            "Ford\n",
            "<class 'dict'>\n"
          ]
        }
      ]
    },
    {
      "cell_type": "code",
      "source": [
        "thisdict = dict(name = 'John', age = 36, country = 'Norway')\n",
        "print(thisdict)\n",
        "print(type(thisdict))"
      ],
      "metadata": {
        "colab": {
          "base_uri": "https://localhost:8080/"
        },
        "id": "yeqM8u8KHlIG",
        "outputId": "258ed6e5-0cd2-4d25-9628-0288c7787400"
      },
      "execution_count": 29,
      "outputs": [
        {
          "output_type": "stream",
          "name": "stdout",
          "text": [
            "{'name': 'John', 'age': 36, 'country': 'Norway'}\n",
            "<class 'dict'>\n"
          ]
        }
      ]
    },
    {
      "cell_type": "code",
      "execution_count": null,
      "metadata": {
        "colab": {
          "base_uri": "https://localhost:8080/"
        },
        "id": "8atIn7UAwoDY",
        "outputId": "de7aa26a-60e1-425a-a05b-4ca91c7457e9"
      },
      "outputs": [
        {
          "output_type": "stream",
          "name": "stdout",
          "text": [
            "1\n",
            "2\n",
            "3\n",
            "4\n",
            "Hello\n",
            "6.24\n",
            "-------------\n",
            "1\n",
            "2\n",
            "3\n",
            "4\n",
            "Hello\n",
            "6.24\n",
            "-------------\n",
            "1 2\n",
            "3 4\n",
            "5 6\n",
            "-------------\n",
            "1 2\n",
            "3 4\n",
            "5 6\n",
            "-------------\n",
            "A 1\n",
            "B 2\n",
            "C 3\n",
            "-------------\n",
            "A 1\n",
            "B 2\n",
            "C 3\n"
          ]
        }
      ],
      "source": [
        "items = [1, 2, 3, 4, 'Hello', 6.24]\n",
        "\n",
        "for k in range(0, len(items)):\n",
        "    print(items[k])\n",
        "print('-------------')\n",
        "\n",
        "for item in items:\n",
        "    print(item)\n",
        "print('-------------')\n",
        "\n",
        "items = [[1, 2], [3, 4], [5, 6]]\n",
        "for item in items:\n",
        "    print(item[0], item[1])\n",
        "print('-------------')\n",
        "\n",
        "for item1, item2 in items:\n",
        "    print(item1, item2)\n",
        "print('-------------')\n",
        "\n",
        "info = {'A': 1, 'B': 2, 'C': 3}\n",
        "for key in info:\n",
        "    print(key, info[key])\n",
        "print('-------------')\n",
        "\n",
        "for key, value in info.items():\n",
        "    print(key, value)\n"
      ]
    },
    {
      "cell_type": "code",
      "source": [
        "import numpy as np\n",
        "a=np.array([1,2,3,4])\n",
        "print(a)\n",
        "print(a+a)"
      ],
      "metadata": {
        "colab": {
          "base_uri": "https://localhost:8080/"
        },
        "id": "dhFtmIDTxkdu",
        "outputId": "2f0fc310-b075-46ca-9429-5dff79dafcce"
      },
      "execution_count": null,
      "outputs": [
        {
          "output_type": "stream",
          "name": "stdout",
          "text": [
            "[1 2 3 4]\n",
            "[2 4 6 8]\n"
          ]
        }
      ]
    },
    {
      "cell_type": "code",
      "source": [
        "b=[1,2,3,4]\n",
        "print(b+b)"
      ],
      "metadata": {
        "colab": {
          "base_uri": "https://localhost:8080/"
        },
        "id": "WsflqxkgxqS9",
        "outputId": "1b90f4c0-18be-4768-d08a-7bfe1b704f18"
      },
      "execution_count": null,
      "outputs": [
        {
          "output_type": "stream",
          "name": "stdout",
          "text": [
            "[1, 2, 3, 4, 1, 2, 3, 4]\n"
          ]
        }
      ]
    },
    {
      "cell_type": "code",
      "source": [
        "a=np.array([[1,2],[3,4]])\n",
        "print(a)"
      ],
      "metadata": {
        "colab": {
          "base_uri": "https://localhost:8080/"
        },
        "id": "uJ3OXz07xkQ6",
        "outputId": "48a5e226-8004-4e8e-b364-bab76051f05b"
      },
      "execution_count": null,
      "outputs": [
        {
          "output_type": "stream",
          "name": "stdout",
          "text": [
            "[[1 2]\n",
            " [3 4]]\n"
          ]
        }
      ]
    },
    {
      "cell_type": "code",
      "source": [
        "a=np.array([[[1,2],[3,4]],[[1,2],[3,4]]])\n",
        "print(a)"
      ],
      "metadata": {
        "colab": {
          "base_uri": "https://localhost:8080/"
        },
        "id": "SE8N4gguxx3B",
        "outputId": "37fb95c1-5497-432b-e67f-e08cd145c585"
      },
      "execution_count": null,
      "outputs": [
        {
          "output_type": "stream",
          "name": "stdout",
          "text": [
            "[[[1 2]\n",
            "  [3 4]]\n",
            "\n",
            " [[1 2]\n",
            "  [3 4]]]\n"
          ]
        }
      ]
    },
    {
      "cell_type": "code",
      "source": [
        "a = np.array([1,2,3,4])\n",
        "b = np.array([[1],[2],[3],[4]])\n",
        "print(a)\n",
        "print(a.shape)\n",
        "print(b)\n",
        "print(b.shape)"
      ],
      "metadata": {
        "colab": {
          "base_uri": "https://localhost:8080/"
        },
        "id": "YBqNa7yYx3cD",
        "outputId": "d788f683-32fe-4d16-82b1-d5cd7340bd3b"
      },
      "execution_count": null,
      "outputs": [
        {
          "output_type": "stream",
          "name": "stdout",
          "text": [
            "[1 2 3 4]\n",
            "(4,)\n",
            "[[1]\n",
            " [2]\n",
            " [3]\n",
            " [4]]\n",
            "(4, 1)\n"
          ]
        }
      ]
    },
    {
      "cell_type": "code",
      "source": [
        "import numpy as np\n",
        "from numpy import linalg as LA\n",
        "c = np.array([[1,2,3],[-1,1,4]])\n",
        "print(LA.norm(c,axis=0))\n",
        "print(LA.norm(c,axis=1))\n",
        "print(LA.norm(c, ord=1, axis=1))\n",
        "print(LA.norm(c, ord=2, axis=1))"
      ],
      "metadata": {
        "colab": {
          "base_uri": "https://localhost:8080/"
        },
        "id": "y_w5NP78w7oV",
        "outputId": "11cb2ebf-57fc-405c-dc89-9ce02b334c34"
      },
      "execution_count": null,
      "outputs": [
        {
          "output_type": "stream",
          "name": "stdout",
          "text": [
            "[1.41421356 2.23606798 5.        ]\n",
            "[3.74165739 4.24264069]\n",
            "[6. 6.]\n",
            "[3.74165739 4.24264069]\n"
          ]
        }
      ]
    },
    {
      "cell_type": "code",
      "source": [
        "a = np.array([[1],[2],[3],[4]])\n",
        "print(a)\n",
        "print(a.T)\n",
        "print(a.T.reshape(-1,4))\n",
        "print(a.shape)\n",
        "print(a.T.reshape(-1,4).T.shape)"
      ],
      "metadata": {
        "colab": {
          "base_uri": "https://localhost:8080/"
        },
        "id": "BBMz37PszJU2",
        "outputId": "c91ec30a-fc58-4332-d7e4-e3664b6e6e36"
      },
      "execution_count": null,
      "outputs": [
        {
          "output_type": "stream",
          "name": "stdout",
          "text": [
            "[[1]\n",
            " [2]\n",
            " [3]\n",
            " [4]]\n",
            "[[1 2 3 4]]\n",
            "[[1 2 3 4]]\n",
            "(4, 1)\n",
            "(4, 1)\n"
          ]
        }
      ]
    },
    {
      "cell_type": "code",
      "source": [
        "a=np.array([1,2,3,4])\n",
        "b=a.reshape(4,-1)\n",
        "print(a)\n",
        "print(a.reshape(2,-1))\n",
        "print(a.shape,',',b.shape,',',np.array([[1,2,3,4]]).shape)"
      ],
      "metadata": {
        "colab": {
          "base_uri": "https://localhost:8080/"
        },
        "id": "Pgvy8I36zfX0",
        "outputId": "e783e5c5-54fc-4bc9-d8cf-46b6ef5a509e"
      },
      "execution_count": null,
      "outputs": [
        {
          "output_type": "stream",
          "name": "stdout",
          "text": [
            "[1 2 3 4]\n",
            "[[1 2]\n",
            " [3 4]]\n",
            "(4,) , (4, 1) , (1, 4)\n"
          ]
        }
      ]
    },
    {
      "cell_type": "code",
      "source": [
        "a = np.array([1,2,3,4,5,6])\n",
        "print(a.reshape(3,2))\n",
        "print(a.shape)\n",
        "b=a.reshape(3,-1)\n",
        "print(b)\n",
        "print(b.shape)\n",
        "c=a.reshape(-1,2)\n",
        "print(c)\n",
        "print(c.shape)"
      ],
      "metadata": {
        "colab": {
          "base_uri": "https://localhost:8080/"
        },
        "id": "QXCvbhoDzyDm",
        "outputId": "0c3c7600-9333-4513-d05c-b85b1413023b"
      },
      "execution_count": null,
      "outputs": [
        {
          "output_type": "stream",
          "name": "stdout",
          "text": [
            "[[1 2]\n",
            " [3 4]\n",
            " [5 6]]\n",
            "(6,)\n",
            "[[1 2]\n",
            " [3 4]\n",
            " [5 6]]\n",
            "(3, 2)\n",
            "[[1 2]\n",
            " [3 4]\n",
            " [5 6]]\n",
            "(3, 2)\n"
          ]
        }
      ]
    },
    {
      "cell_type": "code",
      "source": [
        "a=np.array([1,2,3,4])\n",
        "print(a)\n",
        "print(a.T)\n",
        "b=a.reshape(4,-1)\n",
        "print(b.shape)\n",
        "print(b)\n",
        "print(b.T.shape)"
      ],
      "metadata": {
        "colab": {
          "base_uri": "https://localhost:8080/"
        },
        "id": "fQBQM-sGz_Cs",
        "outputId": "fe0e6133-93c5-4b6f-9727-f552f07d64d0"
      },
      "execution_count": null,
      "outputs": [
        {
          "output_type": "stream",
          "name": "stdout",
          "text": [
            "[1 2 3 4]\n",
            "[1 2 3 4]\n",
            "(4, 1)\n",
            "[[1]\n",
            " [2]\n",
            " [3]\n",
            " [4]]\n",
            "(1, 4)\n"
          ]
        }
      ]
    },
    {
      "cell_type": "code",
      "source": [
        "c= np.array([1,2,3,4,5,6])\n",
        "\n",
        "print(c[0])\n",
        "print(c[5])\n",
        "print(c[-1])\n",
        "print(c[-2])\n",
        "print(c[-6])\n",
        "print(c[0:2])\n",
        "print(c[2:5])\n",
        "print(c[:2])\n",
        "print(c[4:])\n",
        "print(c[-2:])\n",
        "print(c[:2],c[2:])\n",
        "print(c[:4],c[4:])\n",
        "print(np.arange(5,10))"
      ],
      "metadata": {
        "colab": {
          "base_uri": "https://localhost:8080/"
        },
        "id": "481TKXfs0PMh",
        "outputId": "5e716bdf-a75e-4a08-eda7-eb663b65ed21"
      },
      "execution_count": null,
      "outputs": [
        {
          "output_type": "stream",
          "name": "stdout",
          "text": [
            "1\n",
            "6\n",
            "6\n",
            "5\n",
            "1\n",
            "[1 2]\n",
            "[3 4 5]\n",
            "[1 2]\n",
            "[5 6]\n",
            "[5 6]\n",
            "[1 2] [3 4 5 6]\n",
            "[1 2 3 4] [5 6]\n",
            "[5 6 7 8 9]\n"
          ]
        }
      ]
    },
    {
      "cell_type": "code",
      "source": [
        "word = 'Python'\n",
        "\n",
        "print(word[0])\n",
        "print(word[5])\n",
        "print(word[-1])\n",
        "print(word[-2])\n",
        "print(word[-6])\n",
        "print(word[0:2])\n",
        "print(word[2:5])\n",
        "print(word[:2])\n",
        "print(word[4:])\n",
        "print(word[-2:])\n",
        "print(word[:2]+word[2:])\n",
        "print(word[:4]+word[4:])"
      ],
      "metadata": {
        "colab": {
          "base_uri": "https://localhost:8080/"
        },
        "id": "ZCs9__TQ2KFE",
        "outputId": "3e431b5b-a4e1-44c5-db67-263f52d2ada0"
      },
      "execution_count": null,
      "outputs": [
        {
          "output_type": "stream",
          "name": "stdout",
          "text": [
            "P\n",
            "n\n",
            "n\n",
            "o\n",
            "P\n",
            "Py\n",
            "tho\n",
            "Py\n",
            "on\n",
            "on\n",
            "Python\n",
            "Python\n"
          ]
        }
      ]
    },
    {
      "cell_type": "code",
      "source": [
        "A = np.array([[1,4,2,0],[9,5,0,0],[4,0,2,4],[6,1,8,3]])\n",
        "x = np.array([1,2,3,4])\n",
        "b = np.array([0,0,0,0])\n",
        "n = 4\n",
        "for i in range(0,n):\n",
        "  val = 0.0\n",
        "  for j in range(0,n):\n",
        "    val += A[i,i] * x[j]\n",
        "  b[i] = val\n",
        "\n",
        "print(\"caculate=\",b)\n",
        "\n",
        "b=np.dot(A,x)\n",
        "print(\"dot=\",b)\n",
        "\n",
        "b=np.matmul(A,x)\n",
        "print(\"matmul=\",b)\n",
        "\n",
        "b=A@x\n",
        "print(\"A@x=\",b)\n",
        "\n",
        "b=A*x\n",
        "print('A*x=',b)"
      ],
      "metadata": {
        "colab": {
          "base_uri": "https://localhost:8080/"
        },
        "id": "2TI6YB5i4czs",
        "outputId": "86b36875-8cd1-4cc0-b3b2-34698780a960"
      },
      "execution_count": null,
      "outputs": [
        {
          "output_type": "stream",
          "name": "stdout",
          "text": [
            "caculate= [10 50 20 30]\n",
            "dot= [15 19 26 44]\n",
            "matmul= [15 19 26 44]\n",
            "A@x= [15 19 26 44]\n",
            "A*x= [[ 1  8  6  0]\n",
            " [ 9 10  0  0]\n",
            " [ 4  0  6 16]\n",
            " [ 6  2 24 12]]\n"
          ]
        }
      ]
    }
  ]
}