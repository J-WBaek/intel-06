{
  "nbformat": 4,
  "nbformat_minor": 0,
  "metadata": {
    "colab": {
      "provenance": []
    },
    "kernelspec": {
      "name": "python3",
      "display_name": "Python 3"
    },
    "language_info": {
      "name": "python"
    }
  },
  "cells": [
    {
      "cell_type": "code",
      "execution_count": 34,
      "metadata": {
        "colab": {
          "base_uri": "https://localhost:8080/"
        },
        "id": "8atIn7UAwoDY",
        "outputId": "bb284f1e-5cd3-4e61-bee1-3c89c8a73225"
      },
      "outputs": [
        {
          "output_type": "stream",
          "name": "stdout",
          "text": [
            "1\n",
            "2\n",
            "3\n",
            "4\n",
            "Hello\n",
            "6.24\n",
            "-------------\n",
            "1\n",
            "2\n",
            "3\n",
            "4\n",
            "Hello\n",
            "6.24\n",
            "-------------\n",
            "1 2\n",
            "3 4\n",
            "5 6\n",
            "-------------\n",
            "1 2\n",
            "3 4\n",
            "5 6\n",
            "-------------\n",
            "A 1\n",
            "B 2\n",
            "C 3\n",
            "-------------\n",
            "A 1\n",
            "B 2\n",
            "C 3\n"
          ]
        }
      ],
      "source": [
        "items = [1, 2, 3, 4, 'Hello', 6.24]\n",
        "\n",
        "for k in range(0, len(items)):\n",
        "    print(items[k])\n",
        "print('-------------')\n",
        "\n",
        "for item in items:\n",
        "    print(item)\n",
        "print('-------------')\n",
        "\n",
        "items = [[1, 2], [3, 4], [5, 6]]\n",
        "for item in items:\n",
        "    print(item[0], item[1])\n",
        "print('-------------')\n",
        "\n",
        "for item1, item2 in items:\n",
        "    print(item1, item2)\n",
        "print('-------------')\n",
        "\n",
        "info = {'A': 1, 'B': 2, 'C': 3}\n",
        "for key in info:\n",
        "    print(key, info[key])\n",
        "print('-------------')\n",
        "\n",
        "for key, value in info.items():\n",
        "    print(key, value)\n"
      ]
    },
    {
      "cell_type": "code",
      "source": [
        "import numpy as np\n",
        "a=np.array([1,2,3,4])\n",
        "print(a)\n",
        "print(a+a)"
      ],
      "metadata": {
        "colab": {
          "base_uri": "https://localhost:8080/"
        },
        "id": "dhFtmIDTxkdu",
        "outputId": "4972f2b7-3f89-4855-9919-fed419c35c8e"
      },
      "execution_count": 35,
      "outputs": [
        {
          "output_type": "stream",
          "name": "stdout",
          "text": [
            "[1 2 3 4]\n",
            "[2 4 6 8]\n"
          ]
        }
      ]
    },
    {
      "cell_type": "code",
      "source": [
        "b=[1,2,3,4]\n",
        "print(b+b)"
      ],
      "metadata": {
        "colab": {
          "base_uri": "https://localhost:8080/"
        },
        "id": "WsflqxkgxqS9",
        "outputId": "c94aadef-c755-4579-d760-6965327f0879"
      },
      "execution_count": 36,
      "outputs": [
        {
          "output_type": "stream",
          "name": "stdout",
          "text": [
            "[1, 2, 3, 4, 1, 2, 3, 4]\n"
          ]
        }
      ]
    },
    {
      "cell_type": "code",
      "source": [
        "a=np.array([[1,2],[3,4]])\n",
        "print(a)"
      ],
      "metadata": {
        "colab": {
          "base_uri": "https://localhost:8080/"
        },
        "id": "uJ3OXz07xkQ6",
        "outputId": "b382aa01-ee2a-496b-8dee-167f2636f5e0"
      },
      "execution_count": 37,
      "outputs": [
        {
          "output_type": "stream",
          "name": "stdout",
          "text": [
            "[[1 2]\n",
            " [3 4]]\n"
          ]
        }
      ]
    },
    {
      "cell_type": "code",
      "source": [
        "a=np.array([[[1,2],[3,4]],[[1,2],[3,4]]])\n",
        "print(a)"
      ],
      "metadata": {
        "colab": {
          "base_uri": "https://localhost:8080/"
        },
        "id": "SE8N4gguxx3B",
        "outputId": "93f6973f-79f2-438e-9f89-140d40a4c494"
      },
      "execution_count": 39,
      "outputs": [
        {
          "output_type": "stream",
          "name": "stdout",
          "text": [
            "[[[1 2]\n",
            "  [3 4]]\n",
            "\n",
            " [[1 2]\n",
            "  [3 4]]]\n"
          ]
        }
      ]
    },
    {
      "cell_type": "code",
      "source": [
        "a = np.array([1,2,3,4])\n",
        "b = np.array([[1],[2],[3],[4]])\n",
        "print(a)\n",
        "print(a.shape)\n",
        "print(b)\n",
        "print(b.shape)"
      ],
      "metadata": {
        "colab": {
          "base_uri": "https://localhost:8080/"
        },
        "id": "YBqNa7yYx3cD",
        "outputId": "f4836420-3d24-4028-97b6-5d83d0a1ad85"
      },
      "execution_count": 40,
      "outputs": [
        {
          "output_type": "stream",
          "name": "stdout",
          "text": [
            "[1 2 3 4]\n",
            "(4,)\n",
            "[[1]\n",
            " [2]\n",
            " [3]\n",
            " [4]]\n",
            "(4, 1)\n"
          ]
        }
      ]
    },
    {
      "cell_type": "code",
      "source": [
        "import numpy as np\n",
        "from numpy import linalg as LA\n",
        "c = np.array([[1,2,3],[-1,1,4]])\n",
        "print(LA.norm(c,axis=0))\n",
        "print(LA.norm(c,axis=1))\n",
        "print(LA.norm(c, ord=1, axis=1))\n",
        "print(LA.norm(c, ord=2, axis=1))"
      ],
      "metadata": {
        "colab": {
          "base_uri": "https://localhost:8080/"
        },
        "id": "y_w5NP78w7oV",
        "outputId": "6b83807a-b416-4b43-fd68-729cd6689cfc"
      },
      "execution_count": 41,
      "outputs": [
        {
          "output_type": "stream",
          "name": "stdout",
          "text": [
            "[1.41421356 2.23606798 5.        ]\n",
            "[3.74165739 4.24264069]\n",
            "[6. 6.]\n",
            "[3.74165739 4.24264069]\n"
          ]
        }
      ]
    },
    {
      "cell_type": "code",
      "source": [
        "a = np.array([[1],[2],[3],[4]])\n",
        "print(a)\n",
        "print(a.T)\n",
        "print(a.T.reshape(-1,4))\n",
        "print(a.shape)\n",
        "print(a.T.reshape(-1,4).T.shape)"
      ],
      "metadata": {
        "colab": {
          "base_uri": "https://localhost:8080/"
        },
        "id": "BBMz37PszJU2",
        "outputId": "c281816b-8b10-4c8a-b84a-ee25e671fea1"
      },
      "execution_count": 42,
      "outputs": [
        {
          "output_type": "stream",
          "name": "stdout",
          "text": [
            "[[1]\n",
            " [2]\n",
            " [3]\n",
            " [4]]\n",
            "[[1 2 3 4]]\n",
            "[[1 2 3 4]]\n",
            "(4, 1)\n",
            "(4, 1)\n"
          ]
        }
      ]
    },
    {
      "cell_type": "code",
      "source": [
        "a=np.array([1,2,3,4])\n",
        "b=a.reshape(4,-1)\n",
        "print(a)\n",
        "print(a.reshape(2,-1))\n",
        "print(a.shape,',',b.shape,',',np.array([[1,2,3,4]]).shape)"
      ],
      "metadata": {
        "colab": {
          "base_uri": "https://localhost:8080/"
        },
        "id": "Pgvy8I36zfX0",
        "outputId": "9432e68e-5062-4caf-d6cc-3ef220564788"
      },
      "execution_count": 43,
      "outputs": [
        {
          "output_type": "stream",
          "name": "stdout",
          "text": [
            "[1 2 3 4]\n",
            "[[1 2]\n",
            " [3 4]]\n",
            "(4,) , (4, 1) , (1, 4)\n"
          ]
        }
      ]
    },
    {
      "cell_type": "code",
      "source": [
        "a = np.array([1,2,3,4,5,6])\n",
        "print(a.reshape(3,2))\n",
        "print(a.shape)\n",
        "b=a.reshape(3,-1)\n",
        "print(b)\n",
        "print(b.shape)\n",
        "c=a.reshape(-1,2)\n",
        "print(c)\n",
        "print(c.shape)"
      ],
      "metadata": {
        "colab": {
          "base_uri": "https://localhost:8080/"
        },
        "id": "QXCvbhoDzyDm",
        "outputId": "d85738cd-c9d0-4115-a3d8-ca9be8d506f7"
      },
      "execution_count": 44,
      "outputs": [
        {
          "output_type": "stream",
          "name": "stdout",
          "text": [
            "[[1 2]\n",
            " [3 4]\n",
            " [5 6]]\n",
            "(6,)\n",
            "[[1 2]\n",
            " [3 4]\n",
            " [5 6]]\n",
            "(3, 2)\n",
            "[[1 2]\n",
            " [3 4]\n",
            " [5 6]]\n",
            "(3, 2)\n"
          ]
        }
      ]
    },
    {
      "cell_type": "code",
      "source": [
        "a=np.array([1,2,3,4])\n",
        "print(a)\n",
        "print(a.T)\n",
        "b=a.reshape(4,-1)\n",
        "print(b.shape)\n",
        "print(b)\n",
        "print(b.T.shape)"
      ],
      "metadata": {
        "colab": {
          "base_uri": "https://localhost:8080/"
        },
        "id": "fQBQM-sGz_Cs",
        "outputId": "b28850c3-f6ab-437b-def3-01abafeb3613"
      },
      "execution_count": 45,
      "outputs": [
        {
          "output_type": "stream",
          "name": "stdout",
          "text": [
            "[1 2 3 4]\n",
            "[1 2 3 4]\n",
            "(4, 1)\n",
            "[[1]\n",
            " [2]\n",
            " [3]\n",
            " [4]]\n",
            "(1, 4)\n"
          ]
        }
      ]
    },
    {
      "cell_type": "code",
      "source": [
        "c= np.array([1,2,3,4,5,6])\n",
        "\n",
        "print(c[0])\n",
        "print(c[5])\n",
        "print(c[-1])\n",
        "print(c[-2])\n",
        "print(c[-6])\n",
        "print(c[0:2])\n",
        "print(c[2:5])\n",
        "print(c[:2])\n",
        "print(c[4:])\n",
        "print(c[-2:])\n",
        "print(c[:2],c[2:])\n",
        "print(c[:4],c[4:])\n",
        "print(np.arange(5,10))"
      ],
      "metadata": {
        "colab": {
          "base_uri": "https://localhost:8080/"
        },
        "id": "481TKXfs0PMh",
        "outputId": "52170394-c5d4-4dfb-8b10-826192aa1d9b"
      },
      "execution_count": 46,
      "outputs": [
        {
          "output_type": "stream",
          "name": "stdout",
          "text": [
            "1\n",
            "6\n",
            "6\n",
            "5\n",
            "1\n",
            "[1 2]\n",
            "[3 4 5]\n",
            "[1 2]\n",
            "[5 6]\n",
            "[5 6]\n",
            "[1 2] [3 4 5 6]\n",
            "[1 2 3 4] [5 6]\n",
            "[5 6 7 8 9]\n"
          ]
        }
      ]
    },
    {
      "cell_type": "code",
      "source": [
        "word = 'Python'\n",
        "\n",
        "print(word[0])\n",
        "print(word[5])\n",
        "print(word[-1])\n",
        "print(word[-2])\n",
        "print(word[-6])\n",
        "print(word[0:2])\n",
        "print(word[2:5])\n",
        "print(word[:2])\n",
        "print(word[4:])\n",
        "print(word[-2:])\n",
        "print(word[:2]+word[2:])\n",
        "print(word[:4]+word[4:])"
      ],
      "metadata": {
        "colab": {
          "base_uri": "https://localhost:8080/"
        },
        "id": "ZCs9__TQ2KFE",
        "outputId": "f69d8b71-8eed-4515-88e2-00987d1f25c0"
      },
      "execution_count": 47,
      "outputs": [
        {
          "output_type": "stream",
          "name": "stdout",
          "text": [
            "P\n",
            "n\n",
            "n\n",
            "o\n",
            "P\n",
            "Py\n",
            "tho\n",
            "Py\n",
            "on\n",
            "on\n",
            "Python\n",
            "Python\n"
          ]
        }
      ]
    },
    {
      "cell_type": "code",
      "source": [
        "A = np.array([[1,4,2,0],[9,5,0,0],[4,0,2,4],[6,1,8,3]])\n",
        "x = np.array([1,2,3,4])\n",
        "b = np.array([0,0,0,0])\n",
        "n = 4\n",
        "for i in range(0,n):\n",
        "  val = 0.0\n",
        "  for j in range(0,n):\n",
        "    val += A[i,i] * x[j]\n",
        "  b[i] = val\n",
        "\n",
        "print(\"caculate=\",b)\n",
        "\n",
        "b=np.dot(A,x)\n",
        "print(\"dot=\",b)\n",
        "\n",
        "b=np.matmul(A,x)\n",
        "print(\"matmul=\",b)\n",
        "\n",
        "b=A@x\n",
        "print(\"A@x=\",b)\n",
        "\n",
        "b=A*x\n",
        "print('A*x=',b)"
      ],
      "metadata": {
        "colab": {
          "base_uri": "https://localhost:8080/"
        },
        "id": "2TI6YB5i4czs",
        "outputId": "44708dce-80e9-4723-d608-d6ff02f65858"
      },
      "execution_count": 48,
      "outputs": [
        {
          "output_type": "stream",
          "name": "stdout",
          "text": [
            "caculate= [10 50 20 30]\n",
            "dot= [15 19 26 44]\n",
            "matmul= [15 19 26 44]\n",
            "A@x= [15 19 26 44]\n",
            "A*x= [[ 1  8  6  0]\n",
            " [ 9 10  0  0]\n",
            " [ 4  0  6 16]\n",
            " [ 6  2 24 12]]\n"
          ]
        }
      ]
    },
    {
      "cell_type": "code",
      "source": [
        "import numpy as np\n",
        "A = np.array([[1,4,2,0],[9,5,0,0],[4,0,2,4],[6,1,8,3]])\n",
        "b = np.array([15,19,26,44])\n",
        "\n",
        "print(\"det=\",np.linalg.det(A))\n",
        "\n",
        "x=np.linalg.solve(A,b)\n",
        "print(\"solver =\",x)\n",
        "\n",
        "x=np.dot(np.linalg.inv(A),b)\n",
        "print(\"inverse1 =\",x)\n",
        "\n",
        "tmp_b=np.dot(A.T,b)\n",
        "tmp_T=np.dot(A.T,A)\n",
        "tmp_inv=np.linalg.inv(np.dot(A.T,A))\n",
        "x=np.dot(tmp_inv,tmp_b)\n",
        "print(\"inverse2 =\",x)"
      ],
      "metadata": {
        "colab": {
          "base_uri": "https://localhost:8080/"
        },
        "id": "XGWaXJicKXWP",
        "outputId": "79a92e4a-1cc2-494c-d9a7-e2d06328587e"
      },
      "execution_count": 50,
      "outputs": [
        {
          "output_type": "stream",
          "name": "stdout",
          "text": [
            "det= 853.9999999999995\n",
            "solver = [1. 2. 3. 4.]\n",
            "inverse1 = [1. 2. 3. 4.]\n",
            "inverse2 = [1. 2. 3. 4.]\n"
          ]
        }
      ]
    }
  ]
}