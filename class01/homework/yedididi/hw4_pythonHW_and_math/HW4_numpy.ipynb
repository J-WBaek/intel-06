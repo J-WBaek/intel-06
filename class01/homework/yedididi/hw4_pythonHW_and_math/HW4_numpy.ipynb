{
 "cells": [
  {
   "cell_type": "code",
   "execution_count": 2,
   "id": "a8c12a89",
   "metadata": {},
   "outputs": [
    {
     "name": "stdout",
     "output_type": "stream",
     "text": [
      "ford\n",
      "<class 'dict'>\n"
     ]
    }
   ],
   "source": [
    "thisdict = {\n",
    "    \"brand\": \"ford\",\n",
    "    \"model\": \"Mustang\",\n",
    "    \"year\": 1964\n",
    "}\n",
    "print(thisdict[\"brand\"])\n",
    "print(type(thisdict))"
   ]
  },
  {
   "cell_type": "code",
   "execution_count": 3,
   "id": "ca98982a",
   "metadata": {},
   "outputs": [
    {
     "name": "stdout",
     "output_type": "stream",
     "text": [
      "{'name': 'John', 'age': 36, 'country': 'Norway'}\n",
      "<class 'dict'>\n"
     ]
    }
   ],
   "source": [
    "thisdict = dict(name = \"John\", age = 36, country = \"Norway\")\n",
    "\n",
    "print(thisdict)\n",
    "print(type(thisdict))"
   ]
  },
  {
   "cell_type": "code",
   "execution_count": 4,
   "id": "ff121059",
   "metadata": {},
   "outputs": [
    {
     "name": "stdout",
     "output_type": "stream",
     "text": [
      "1\n",
      "2\n",
      "3\n",
      "4\n",
      "Hello\n",
      "6.24\n",
      "----------------\n",
      "1\n",
      "2\n",
      "3\n",
      "4\n",
      "Hello\n",
      "6.24\n",
      "----------------\n",
      "1 2\n",
      "3 4\n",
      "5 6\n",
      "----------------\n",
      "1 2\n",
      "3 4\n",
      "5 6\n",
      "----------------\n",
      "A 1\n",
      "B 2\n",
      "C 3\n",
      "----------------\n",
      "A 1\n",
      "B 2\n",
      "C 3\n"
     ]
    }
   ],
   "source": [
    "items = [1, 2, 3, 4, \"Hello\", 6.24]\n",
    "\n",
    "for k in range(0, len(items)):\n",
    "    print(items[k])\n",
    "print(\"----------------\")\n",
    "\n",
    "for item in items:\n",
    "    print(item)\n",
    "print(\"----------------\")\n",
    "\n",
    "items = [[1,2], [3,4], [5,6]]\n",
    "for item in items:\n",
    "    print(item[0], item[1])\n",
    "print(\"----------------\")\n",
    "\n",
    "for item1, item2 in items:\n",
    "    print(item1, item2)\n",
    "print(\"----------------\")\n",
    "\n",
    "info = {'A':1, 'B':2, 'C':3}\n",
    "for key in info:\n",
    "    print(key, info[key])\n",
    "print(\"----------------\")\n",
    "\n",
    "for key, value in info.items():\n",
    "    print(key, value)\n"
   ]
  },
  {
   "cell_type": "code",
   "execution_count": 5,
   "id": "28ad0653",
   "metadata": {},
   "outputs": [
    {
     "name": "stdout",
     "output_type": "stream",
     "text": [
      "[[1, 2], [3, 4], [5, 6]]\n",
      "[['A', 'B'], ['C', 'D'], ['E', 'F']]\n",
      "----------------\n",
      "[1, 2] ['A', 'B']\n",
      "[3, 4] ['C', 'D']\n",
      "[5, 6] ['E', 'F']\n"
     ]
    }
   ],
   "source": [
    "items1 = [[1,2], [3,4], [5,6]]\n",
    "items2 = [['A', 'B'], ['C', 'D'], ['E', 'F']]\n",
    "\n",
    "print(items1)\n",
    "print(items2)\n",
    "print(\"----------------\")\n",
    "\n",
    "for digits, characters in zip(items1, items2):\n",
    "    print(digits, characters)"
   ]
  },
  {
   "cell_type": "code",
   "execution_count": 6,
   "id": "c6ac4642",
   "metadata": {},
   "outputs": [
    {
     "name": "stdout",
     "output_type": "stream",
     "text": [
      "[0, 1, 2, 3, 4]\n",
      "----------------\n",
      "[0, 1, 2, 3, 4]\n",
      "----------------\n",
      "[0, 6, 2, 16, 4]\n",
      "----------------\n",
      "[0, 2, 4]\n",
      "----------------\n",
      "{0: 0, 1: 10, 2: 20, 3: 30, 4: 40}\n",
      "----------------\n",
      "[2, 6, 8]\n"
     ]
    }
   ],
   "source": [
    "a = []\n",
    "for k in range(0, 5):\n",
    "    a.append(k)\n",
    "\n",
    "print(a)\n",
    "print(\"----------------\")\n",
    "\n",
    "a = [k for k in range(0, 5)]\n",
    "print(a)\n",
    "print(\"----------------\")\n",
    "\n",
    "a = [k if (k + 1) % 2 else k * 5 + 1 for k in range(0, 5)]\n",
    "print(a)\n",
    "print(\"----------------\")\n",
    "\n",
    "a = [k for k in range(0, 5) if k % 2 == 0]\n",
    "print(a)\n",
    "print(\"----------------\")\n",
    "\n",
    "a = {k : k * 10 for k in range(0, 5)}\n",
    "print(a)\n",
    "print(\"----------------\")\n",
    "\n",
    "a = [1, 3, 4]\n",
    "c = [a[i] + a[i] for i in range(len(a))]\n",
    "print(c)"
   ]
  },
  {
   "cell_type": "code",
   "execution_count": 8,
   "id": "5363a2da",
   "metadata": {},
   "outputs": [
    {
     "name": "stdout",
     "output_type": "stream",
     "text": [
      "[1 2 3 4]\n",
      "[2 4 6 8]\n"
     ]
    }
   ],
   "source": [
    "import numpy as np\n",
    "\n",
    "a = np.array([1,2,3,4])\n",
    "print(a)\n",
    "print(a + a)"
   ]
  },
  {
   "cell_type": "code",
   "execution_count": 9,
   "id": "ce210d11",
   "metadata": {},
   "outputs": [
    {
     "name": "stdout",
     "output_type": "stream",
     "text": [
      "[1, 2, 3, 4, 1, 2, 3, 4]\n"
     ]
    }
   ],
   "source": [
    "b = [1,2,3,4]\n",
    "print(b+b)"
   ]
  },
  {
   "cell_type": "code",
   "execution_count": 11,
   "id": "e1e11b07",
   "metadata": {},
   "outputs": [
    {
     "name": "stdout",
     "output_type": "stream",
     "text": [
      "[[1 2]\n",
      " [3 4]]\n"
     ]
    }
   ],
   "source": [
    "a = np.array([[1,2],[3,4]])\n",
    "print(a)"
   ]
  },
  {
   "cell_type": "code",
   "execution_count": 12,
   "id": "6574ff9e",
   "metadata": {},
   "outputs": [
    {
     "name": "stdout",
     "output_type": "stream",
     "text": [
      "[[[1 2]\n",
      "  [3 4]]\n",
      "\n",
      " [[1 2]\n",
      "  [3 4]]]\n"
     ]
    }
   ],
   "source": [
    "a = np.array([[[1,2],[3,4]], [[1,2], [3,4]]])\n",
    "print(a)"
   ]
  },
  {
   "cell_type": "code",
   "execution_count": 13,
   "id": "251ec2aa",
   "metadata": {},
   "outputs": [
    {
     "name": "stdout",
     "output_type": "stream",
     "text": [
      "[1 2 3 4]\n",
      "(4,)\n",
      "[[1]\n",
      " [2]\n",
      " [3]\n",
      " [4]]\n",
      "(4, 1)\n"
     ]
    }
   ],
   "source": [
    "a = np.array([1,2,3,4])\n",
    "b = np.array([[1], [2], [3], [4]])\n",
    "print(a)\n",
    "print(a.shape)\n",
    "print(b)\n",
    "print(b.shape)"
   ]
  },
  {
   "cell_type": "code",
   "execution_count": 14,
   "id": "bfe1d32c",
   "metadata": {},
   "outputs": [
    {
     "name": "stdout",
     "output_type": "stream",
     "text": [
      "[1.41421356 2.23606798 5.        ]\n",
      "[3.74165739 4.24264069]\n",
      "[6. 6.]\n",
      "[3.74165739 4.24264069]\n"
     ]
    }
   ],
   "source": [
    "from numpy import linalg as LA\n",
    "\n",
    "c = np.array([[1,2,3],\n",
    "              [-1, 1, 4]])\n",
    "print(LA.norm(c, axis=0))\n",
    "print(LA.norm(c, axis=1))\n",
    "print(LA.norm(c, ord=1, axis=1))\n",
    "print(LA.norm(c, ord=2, axis=1))"
   ]
  },
  {
   "cell_type": "code",
   "execution_count": 15,
   "id": "79680027",
   "metadata": {},
   "outputs": [
    {
     "name": "stdout",
     "output_type": "stream",
     "text": [
      "[[1]\n",
      " [2]\n",
      " [3]\n",
      " [4]]\n",
      "[[1 2 3 4]]\n",
      "[[1 2 3 4]]\n",
      "(4, 1)\n",
      "(4, 1)\n"
     ]
    }
   ],
   "source": [
    "a = np.array([[1], [2], [3], [4]])\n",
    "\n",
    "print(a)\n",
    "print(a.T)\n",
    "print(a.T.reshape(-1, 4))\n",
    "print(a.shape)\n",
    "print(a.T.reshape(-1, 4).T.shape)"
   ]
  },
  {
   "cell_type": "code",
   "execution_count": 16,
   "id": "4cdebe93",
   "metadata": {},
   "outputs": [
    {
     "name": "stdout",
     "output_type": "stream",
     "text": [
      "[1 2 3 4]\n",
      "[[1 2]\n",
      " [3 4]]\n",
      "(4,) , (4, 1) , (1, 4)\n"
     ]
    }
   ],
   "source": [
    "a = np.array([1,2,3,4])\n",
    "b = a.reshape(4, -1)\n",
    "print(a)\n",
    "print(a.reshape(2, -1))\n",
    "print(a.shape,\",\",b.shape,\",\",np.array([[1,2,3,4]]).shape)"
   ]
  },
  {
   "cell_type": "code",
   "execution_count": 17,
   "id": "ef1b814b",
   "metadata": {},
   "outputs": [
    {
     "name": "stdout",
     "output_type": "stream",
     "text": [
      "[[1 2]\n",
      " [3 4]\n",
      " [5 6]]\n",
      "(6,)\n",
      "[[1 2]\n",
      " [3 4]\n",
      " [5 6]]\n",
      "(3, 2)\n",
      "[[1 2]\n",
      " [3 4]\n",
      " [5 6]]\n",
      "(3, 2)\n"
     ]
    }
   ],
   "source": [
    "a = np.array([1,2,3,4,5,6])\n",
    "print(a.reshape(3,2))\n",
    "print(a.shape)\n",
    "\n",
    "b = a.reshape(3, -1)\n",
    "print(b)\n",
    "print(b.shape)\n",
    "\n",
    "c = a.reshape(-1, 2)\n",
    "print(c)\n",
    "print(c.shape)\n"
   ]
  },
  {
   "cell_type": "code",
   "execution_count": 18,
   "id": "bc66b2ef",
   "metadata": {},
   "outputs": [
    {
     "name": "stdout",
     "output_type": "stream",
     "text": [
      "[1 2 3 4]\n",
      "[1 2 3 4]\n",
      "(4, 1)\n",
      "[[1]\n",
      " [2]\n",
      " [3]\n",
      " [4]]\n",
      "(1, 4)\n"
     ]
    }
   ],
   "source": [
    "a = np.array([1,2,3,4])\n",
    "print(a)\n",
    "print(a.T)\n",
    "\n",
    "b = a.reshape(4, -1)\n",
    "print(b.shape)\n",
    "print(b)\n",
    "print(b.T.shape)"
   ]
  },
  {
   "cell_type": "code",
   "execution_count": 20,
   "id": "0886d3d0",
   "metadata": {},
   "outputs": [
    {
     "name": "stdout",
     "output_type": "stream",
     "text": [
      "calculate= [17 24 20 28]\n",
      "dot= [15 19 26 44]\n",
      "matmul= [15 19 26 44]\n",
      "A@x= [15 19 26 44]\n",
      "A*x= [[ 1  8  6  0]\n",
      " [ 9 10  0  0]\n",
      " [ 4  0  6 16]\n",
      " [ 6  2 24 12]]\n"
     ]
    }
   ],
   "source": [
    "A = np.array([[1,4,2,0], [9,5,0,0], [4,0,2,4], [6,1,8,3]])\n",
    "x = np.array([1,2,3,4])\n",
    "b = np.array([0,0,0,0])\n",
    "n = 4\n",
    "\n",
    "for i in range(0, n):\n",
    "    val = 0.0\n",
    "    for j in range(0, n):\n",
    "        val += A[i, j] + x[j]\n",
    "    b[i] = val\n",
    "\n",
    "print(\"calculate=\", b)\n",
    "\n",
    "b = np.dot(A, x)\n",
    "print(\"dot=\", b)\n",
    "\n",
    "b = np.matmul(A, x)\n",
    "print(\"matmul=\", b)\n",
    "\n",
    "b = A@x\n",
    "print(\"A@x=\", b)\n",
    "\n",
    "b = A*x\n",
    "print(\"A*x=\", b)"
   ]
  },
  {
   "cell_type": "code",
   "execution_count": null,
   "id": "ba8cc49e",
   "metadata": {},
   "outputs": [],
   "source": []
  }
 ],
 "metadata": {
  "kernelspec": {
   "display_name": "Python 3",
   "language": "python",
   "name": "python3"
  },
  "language_info": {
   "codemirror_mode": {
    "name": "ipython",
    "version": 3
   },
   "file_extension": ".py",
   "mimetype": "text/x-python",
   "name": "python",
   "nbconvert_exporter": "python",
   "pygments_lexer": "ipython3",
   "version": "3.10.12"
  }
 },
 "nbformat": 4,
 "nbformat_minor": 5
}
