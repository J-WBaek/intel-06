{
  "cells": [
    {
      "cell_type": "code",
      "execution_count": 1,
      "metadata": {
        "colab": {
          "base_uri": "https://localhost:8080/"
        },
        "id": "DkUVlBzbeRy2",
        "outputId": "4171fe07-c0d1-414d-e505-4a7b15c81861"
      },
      "outputs": [
        {
          "name": "stdout",
          "output_type": "stream",
          "text": [
            "('A', 'B', 'C')\n"
          ]
        }
      ],
      "source": [
        "t = (\"A\", \"B\")\n",
        "\n",
        "t = t + (\"C\",)\n",
        "\n",
        "print(t)\n"
      ]
    },
    {
      "cell_type": "code",
      "execution_count": 11,
      "metadata": {
        "colab": {
          "base_uri": "https://localhost:8080/"
        },
        "id": "s7hvmNhAenOo",
        "outputId": "ad3885c5-e7fa-4633-97f4-b5728f0548f9"
      },
      "outputs": [
        {
          "name": "stdout",
          "output_type": "stream",
          "text": [
            "4\n",
            "[[ 1.  2.  3.  4.]\n",
            " [ 5.  6.  7.  8.]\n",
            " [ 9. 10. 11. 12.]\n",
            " [13. 14. 15. 16.]]\n",
            "[ 1.  2.  3.  4.  5.  6.  7.  8.  9. 10. 11. 12. 13. 14. 15. 16.]\n"
          ]
        }
      ],
      "source": [
        "import numpy as np\n",
        "nn = int(input())\n",
        "A = np.zeros((nn,nn))\n",
        "for ii in range(nn):\n",
        "    for jj in range(nn):\n",
        "        A[ii][jj] = ii*nn+jj+1\n",
        "print(A)\n",
        "\n",
        "B = A.reshape(-1)\n",
        "print(B)"
      ]
    },
    {
      "cell_type": "code",
      "execution_count": 3,
      "metadata": {
        "colab": {
          "base_uri": "https://localhost:8080/"
        },
        "id": "EUDkzCfVhCg_",
        "outputId": "0abfcd51-29d7-4d7c-cdfb-1e93c6fa0525"
      },
      "outputs": [
        {
          "name": "stdout",
          "output_type": "stream",
          "text": [
            "oritignal  (100, 200, 3)\n",
            "expand  (1, 100, 200, 3)\n",
            "transpose  (1, 3, 100, 200)\n"
          ]
        }
      ],
      "source": [
        "import cv2\n",
        "import numpy as np\n",
        "# img = cv2.imread(\"Lena.png\")\n",
        "img = np.random.randint(0, 256, (100, 200, 3), dtype=np.uint8)\n",
        "\n",
        "print(\"oritignal \", img.shape)\n",
        "img1 = np.expand_dims(img, 0)\n",
        "print(\"expand \", img1.shape)\n",
        "img2 = np.transpose(img1, (0, 3, 1, 2))\n",
        "print(\"transpose \", img2.shape)"
      ]
    }
  ],
  "metadata": {
    "colab": {
      "provenance": []
    },
    "kernelspec": {
      "display_name": "Python 3",
      "name": "python3"
    },
    "language_info": {
      "codemirror_mode": {
        "name": "ipython",
        "version": 3
      },
      "file_extension": ".py",
      "mimetype": "text/x-python",
      "name": "python",
      "nbconvert_exporter": "python",
      "pygments_lexer": "ipython3",
      "version": "3.10.12"
    }
  },
  "nbformat": 4,
  "nbformat_minor": 0
}
