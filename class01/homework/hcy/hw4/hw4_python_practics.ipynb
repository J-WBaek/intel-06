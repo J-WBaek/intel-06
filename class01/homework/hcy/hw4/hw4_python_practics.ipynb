{
  "nbformat": 4,
  "nbformat_minor": 0,
  "metadata": {
    "colab": {
      "provenance": []
    },
    "kernelspec": {
      "name": "python3",
      "display_name": "Python 3"
    },
    "language_info": {
      "name": "python"
    }
  },
  "cells": [
    {
      "cell_type": "code",
      "execution_count": 1,
      "metadata": {
        "colab": {
          "base_uri": "https://localhost:8080/"
        },
        "id": "T4t7QD3jREqJ",
        "outputId": "cc2e4542-a160-4e78-b4af-414780820105"
      },
      "outputs": [
        {
          "output_type": "stream",
          "name": "stdout",
          "text": [
            "[1, 3, 4]\n",
            "[9, 3, 4]\n",
            "[1, 3, 'string']\n",
            "[1, 3, 'string', 6.24]\n",
            "[9, 3, 4, 9, 3, 4]\n",
            "[1, 3, 'string', 6.24, 1, 3, 'string', 6.24]\n",
            "[18, 6, 8]\n"
          ]
        }
      ],
      "source": [
        "a = [1,3,4]\n",
        "print(a)\n",
        "a[0] = 9\n",
        "print(a)\n",
        "\n",
        "b = [1, 3, 'string']\n",
        "print(b)\n",
        "b.append(6.24)\n",
        "print(b)\n",
        "\n",
        "print(2*a)\n",
        "print(b*2)\n",
        "c = [a[i] + a[i] for i in range(len(a))]\n",
        "print(c)"
      ]
    },
    {
      "cell_type": "code",
      "source": [
        "a = (1, 2, 3)\n",
        "print(a)\n",
        "b = (1, 3, 'string')\n",
        "print(b)\n",
        "\n",
        "a[0] = 2\n",
        "a.append(4)"
      ],
      "metadata": {
        "colab": {
          "base_uri": "https://localhost:8080/",
          "height": 228
        },
        "id": "p1CnXDOQRS2R",
        "outputId": "40b51d8f-fb1e-4520-b54c-e34d54803f2a"
      },
      "execution_count": 2,
      "outputs": [
        {
          "output_type": "stream",
          "name": "stdout",
          "text": [
            "(1, 2, 3)\n",
            "(1, 3, 'string')\n"
          ]
        },
        {
          "output_type": "error",
          "ename": "TypeError",
          "evalue": "'tuple' object does not support item assignment",
          "traceback": [
            "\u001b[0;31m---------------------------------------------------------------------------\u001b[0m",
            "\u001b[0;31mTypeError\u001b[0m                                 Traceback (most recent call last)",
            "\u001b[0;32m<ipython-input-2-f13a4b2a02dc>\u001b[0m in \u001b[0;36m<cell line: 0>\u001b[0;34m()\u001b[0m\n\u001b[1;32m      4\u001b[0m \u001b[0mprint\u001b[0m\u001b[0;34m(\u001b[0m\u001b[0mb\u001b[0m\u001b[0;34m)\u001b[0m\u001b[0;34m\u001b[0m\u001b[0;34m\u001b[0m\u001b[0m\n\u001b[1;32m      5\u001b[0m \u001b[0;34m\u001b[0m\u001b[0m\n\u001b[0;32m----> 6\u001b[0;31m \u001b[0ma\u001b[0m\u001b[0;34m[\u001b[0m\u001b[0;36m0\u001b[0m\u001b[0;34m]\u001b[0m \u001b[0;34m=\u001b[0m \u001b[0;36m2\u001b[0m\u001b[0;34m\u001b[0m\u001b[0;34m\u001b[0m\u001b[0m\n\u001b[0m\u001b[1;32m      7\u001b[0m \u001b[0ma\u001b[0m\u001b[0;34m.\u001b[0m\u001b[0mappend\u001b[0m\u001b[0;34m(\u001b[0m\u001b[0;36m4\u001b[0m\u001b[0;34m)\u001b[0m\u001b[0;34m\u001b[0m\u001b[0;34m\u001b[0m\u001b[0m\n",
            "\u001b[0;31mTypeError\u001b[0m: 'tuple' object does not support item assignment"
          ]
        }
      ]
    },
    {
      "cell_type": "code",
      "source": [
        "info = {'A' : 2.3, 'B' : 'C', 5 : 'D'}\n",
        "print(info)\n",
        "\n",
        "info['A']= 5.2\n",
        "print(info)\n",
        "\n",
        "info['Hello'] = [1, 2, 3, 4, 'World.']\n",
        "print(info)"
      ],
      "metadata": {
        "colab": {
          "base_uri": "https://localhost:8080/"
        },
        "id": "vyv_rgwZRVbg",
        "outputId": "f20031d8-07d5-4f24-ea5d-28898ea981c4"
      },
      "execution_count": 3,
      "outputs": [
        {
          "output_type": "stream",
          "name": "stdout",
          "text": [
            "{'A': 2.3, 'B': 'C', 5: 'D'}\n",
            "{'A': 5.2, 'B': 'C', 5: 'D'}\n",
            "{'A': 5.2, 'B': 'C', 5: 'D', 'Hello': [1, 2, 3, 4, 'World.']}\n"
          ]
        }
      ]
    },
    {
      "cell_type": "code",
      "source": [
        "thisdict = {\n",
        "    \"brand\" : \"Ford\",\n",
        "    \"model\": \"Mustang\",\n",
        "    \"year\" : 1964\n",
        "}\n",
        "print(thisdict[\"brand\"])"
      ],
      "metadata": {
        "colab": {
          "base_uri": "https://localhost:8080/"
        },
        "id": "ABtprsE7RX_u",
        "outputId": "4faf098e-d3ba-494d-9cb2-42fa9c9215c3"
      },
      "execution_count": 4,
      "outputs": [
        {
          "output_type": "stream",
          "name": "stdout",
          "text": [
            "Ford\n"
          ]
        }
      ]
    },
    {
      "cell_type": "code",
      "source": [
        "thisdict = {\n",
        "    \"brand\" : \"Ford\",\n",
        "    \"model\": \"Mustang\",\n",
        "    \"year\" : 1964\n",
        "}\n",
        "print(thisdict[\"brand\"])\n",
        "print(type(thisdict))"
      ],
      "metadata": {
        "colab": {
          "base_uri": "https://localhost:8080/"
        },
        "id": "Hzk40mdRRawJ",
        "outputId": "a1ac7c37-0201-4c79-a63b-7811eadf4952"
      },
      "execution_count": 5,
      "outputs": [
        {
          "output_type": "stream",
          "name": "stdout",
          "text": [
            "Ford\n",
            "<class 'dict'>\n"
          ]
        }
      ]
    },
    {
      "cell_type": "code",
      "source": [
        "thisdict = dict(name = \"John\", age = 36, country = \"Norway\")\n",
        "print(thisdict)\n",
        "print(type(thisdict))"
      ],
      "metadata": {
        "colab": {
          "base_uri": "https://localhost:8080/"
        },
        "id": "zDU-uxJdRcq5",
        "outputId": "870a3b2d-1f46-46d3-8076-16ddee028aed"
      },
      "execution_count": 6,
      "outputs": [
        {
          "output_type": "stream",
          "name": "stdout",
          "text": [
            "{'name': 'John', 'age': 36, 'country': 'Norway'}\n",
            "<class 'dict'>\n"
          ]
        }
      ]
    },
    {
      "cell_type": "code",
      "source": [
        "items = [1, 2, 3, 4, 'Hello', 6.24]\n",
        "\n",
        "for k in range(0, len(items)):\n",
        "  print(items[k])\n",
        "print('----------')\n",
        "for item in items:\n",
        "  print(item)\n",
        "print('----------')\n",
        "items = [[1,2], [3,4], [5,6]]\n",
        "for item in items:\n",
        "  print(item[0], item[1])\n",
        "print('----------')\n",
        "for item1, item2 in items:\n",
        "  print(item1, item2)\n",
        "print('----------')\n",
        "info = {'A' : 1, 'B' : 2, 'C' : 3}\n",
        "for key in info:\n",
        "  print(key, info[key])\n",
        "print('----------')\n",
        "for key, value in info.items():\n",
        "  print(key, value)"
      ],
      "metadata": {
        "colab": {
          "base_uri": "https://localhost:8080/"
        },
        "id": "ltc-mUTUReLa",
        "outputId": "c52654fc-8a66-4f5b-ecf5-39f60231b952"
      },
      "execution_count": 7,
      "outputs": [
        {
          "output_type": "stream",
          "name": "stdout",
          "text": [
            "1\n",
            "2\n",
            "3\n",
            "4\n",
            "Hello\n",
            "6.24\n",
            "----------\n",
            "1\n",
            "2\n",
            "3\n",
            "4\n",
            "Hello\n",
            "6.24\n",
            "----------\n",
            "1 2\n",
            "3 4\n",
            "5 6\n",
            "----------\n",
            "1 2\n",
            "3 4\n",
            "5 6\n",
            "----------\n",
            "A 1\n",
            "B 2\n",
            "C 3\n",
            "----------\n",
            "A 1\n",
            "B 2\n",
            "C 3\n"
          ]
        }
      ]
    },
    {
      "cell_type": "code",
      "source": [
        "import numpy as np\n",
        "a = np.array([1,2,3,4])\n",
        "print(a)\n",
        "print(a + a)"
      ],
      "metadata": {
        "colab": {
          "base_uri": "https://localhost:8080/"
        },
        "id": "CbRn0A22RhAT",
        "outputId": "6c8d21d1-1958-41ac-f20b-9fa358c6cd03"
      },
      "execution_count": 8,
      "outputs": [
        {
          "output_type": "stream",
          "name": "stdout",
          "text": [
            "[1 2 3 4]\n",
            "[2 4 6 8]\n"
          ]
        }
      ]
    },
    {
      "cell_type": "code",
      "source": [
        "b = [1,2,3,4]\n",
        "print(b + b)"
      ],
      "metadata": {
        "colab": {
          "base_uri": "https://localhost:8080/"
        },
        "id": "qmIxDWGMRiWI",
        "outputId": "c0983644-d27c-45c9-c741-b5acc9764440"
      },
      "execution_count": 9,
      "outputs": [
        {
          "output_type": "stream",
          "name": "stdout",
          "text": [
            "[1, 2, 3, 4, 1, 2, 3, 4]\n"
          ]
        }
      ]
    },
    {
      "cell_type": "code",
      "source": [
        "a = np.array([[1,2],[3,4]])\n",
        "print(a)"
      ],
      "metadata": {
        "colab": {
          "base_uri": "https://localhost:8080/"
        },
        "id": "tEF3--yQRjqO",
        "outputId": "570a1589-6e47-46ec-d4a7-847c7c53c27f"
      },
      "execution_count": 10,
      "outputs": [
        {
          "output_type": "stream",
          "name": "stdout",
          "text": [
            "[[1 2]\n",
            " [3 4]]\n"
          ]
        }
      ]
    },
    {
      "cell_type": "code",
      "source": [
        "a = np.array([[[1,2],[3,4]], [[1,2],[3,4]]])\n",
        "print(a)"
      ],
      "metadata": {
        "colab": {
          "base_uri": "https://localhost:8080/"
        },
        "id": "XhmlEBrSRkxT",
        "outputId": "d907a3f6-fbb2-4f51-d2b1-f28068f0f5cb"
      },
      "execution_count": 11,
      "outputs": [
        {
          "output_type": "stream",
          "name": "stdout",
          "text": [
            "[[[1 2]\n",
            "  [3 4]]\n",
            "\n",
            " [[1 2]\n",
            "  [3 4]]]\n"
          ]
        }
      ]
    },
    {
      "cell_type": "code",
      "source": [
        "a = np.array([1,2,3,4])\n",
        "b = np.array([[1],[2],[3],[4]])\n",
        "print(a)\n",
        "print(a.shape)\n",
        "print(b)\n",
        "print(b.shape)"
      ],
      "metadata": {
        "colab": {
          "base_uri": "https://localhost:8080/"
        },
        "id": "5iShHkS6RmH5",
        "outputId": "7332a535-d22b-4442-c5aa-73bf25265548"
      },
      "execution_count": 12,
      "outputs": [
        {
          "output_type": "stream",
          "name": "stdout",
          "text": [
            "[1 2 3 4]\n",
            "(4,)\n",
            "[[1]\n",
            " [2]\n",
            " [3]\n",
            " [4]]\n",
            "(4, 1)\n"
          ]
        }
      ]
    },
    {
      "cell_type": "code",
      "source": [
        "import numpy as np\n",
        "from numpy import linalg as LA\n",
        "c = np.array([[ 1, 2, 3],\n",
        "              [-1, 1, 4]])\n",
        "print(LA.norm(c, axis=0))\n",
        "print(LA.norm(c, axis=1))\n",
        "print(LA.norm(c, ord=1, axis=1))\n",
        "print(LA.norm(c, ord=2, axis=1))"
      ],
      "metadata": {
        "colab": {
          "base_uri": "https://localhost:8080/"
        },
        "id": "zZiAUSx0RnoO",
        "outputId": "45794e49-2a84-4793-a002-6c214d6a9633"
      },
      "execution_count": 13,
      "outputs": [
        {
          "output_type": "stream",
          "name": "stdout",
          "text": [
            "[1.41421356 2.23606798 5.        ]\n",
            "[3.74165739 4.24264069]\n",
            "[6. 6.]\n",
            "[3.74165739 4.24264069]\n"
          ]
        }
      ]
    },
    {
      "cell_type": "code",
      "source": [
        "a = np.array([[1],[2],[3],[4]])\n",
        "print(a) #shape = (4,1)\n",
        "print(a.T) #shape = (1,4)\n",
        "print(a.T.reshape(-1,4))\n",
        "print(a.shape)\n",
        "print(a.T.reshape(-1,4).T.shape)"
      ],
      "metadata": {
        "id": "QprGksnPRpKm"
      },
      "execution_count": null,
      "outputs": []
    },
    {
      "cell_type": "code",
      "source": [
        "a = np.array([1,2,3,4])\n",
        "b = a.reshape(4,-1)\n",
        "print(a)\n",
        "print(a.reshape(2,-1))\n",
        "print(a.shape, \",\", b.shape, \",\", np.array([[1,2,3,4]]).shape)"
      ],
      "metadata": {
        "colab": {
          "base_uri": "https://localhost:8080/"
        },
        "id": "a8WZxTpSRqmj",
        "outputId": "ced4d2c4-58e9-4610-f6a3-b33e7057d681"
      },
      "execution_count": 14,
      "outputs": [
        {
          "output_type": "stream",
          "name": "stdout",
          "text": [
            "[1 2 3 4]\n",
            "[[1 2]\n",
            " [3 4]]\n",
            "(4,) , (4, 1) , (1, 4)\n"
          ]
        }
      ]
    },
    {
      "cell_type": "code",
      "source": [
        "a =np.array([1,2,3,4,5,6])\n",
        "print(a.reshape(3,2))\n",
        "print(a.shape)\n",
        "b = a.reshape(3,-1)\n",
        "print(b)\n",
        "print(b.shape)\n",
        "c = a.reshape(-1,2)\n",
        "print(c)\n",
        "print(c.shape)"
      ],
      "metadata": {
        "colab": {
          "base_uri": "https://localhost:8080/"
        },
        "id": "goasnIs5Rsaa",
        "outputId": "281f906d-0c0b-4453-fe75-0bd341a75072"
      },
      "execution_count": 15,
      "outputs": [
        {
          "output_type": "stream",
          "name": "stdout",
          "text": [
            "[[1 2]\n",
            " [3 4]\n",
            " [5 6]]\n",
            "(6,)\n",
            "[[1 2]\n",
            " [3 4]\n",
            " [5 6]]\n",
            "(3, 2)\n",
            "[[1 2]\n",
            " [3 4]\n",
            " [5 6]]\n",
            "(3, 2)\n"
          ]
        }
      ]
    },
    {
      "cell_type": "code",
      "source": [
        "a =np.array([1,2,3,4,5,6])\n",
        "print(a.reshape(3,2))\n",
        "print(a.shape)\n",
        "b = a.reshape(3,-1)\n",
        "print(b)\n",
        "print(b.shape)\n",
        "c = a.reshape(-1,2)\n",
        "print(c)\n",
        "print(c.shape)"
      ],
      "metadata": {
        "colab": {
          "base_uri": "https://localhost:8080/"
        },
        "id": "TM4ErXryRtz0",
        "outputId": "13d9b7d3-b530-4bde-ee41-d16ed741becd"
      },
      "execution_count": 16,
      "outputs": [
        {
          "output_type": "stream",
          "name": "stdout",
          "text": [
            "[[1 2]\n",
            " [3 4]\n",
            " [5 6]]\n",
            "(6,)\n",
            "[[1 2]\n",
            " [3 4]\n",
            " [5 6]]\n",
            "(3, 2)\n",
            "[[1 2]\n",
            " [3 4]\n",
            " [5 6]]\n",
            "(3, 2)\n"
          ]
        }
      ]
    },
    {
      "cell_type": "code",
      "source": [
        "A = np.array([[1, 4, 2, 0], [9, 5, 0, 0], [4, 0, 2, 4], [6, 1, 8,3]])\n",
        "x = np.array([1, 2, 3, 4])\n",
        "b = np.array([0, 0, 0, 0])\n",
        "n = 4\n",
        "for i in range(0, n):\n",
        "  val = 0.0\n",
        "  for j in range(0,n):\n",
        "    #TODO 2\n",
        "    val += A[i,j] * x[j]\n",
        "  b[i] = val\n",
        "\n",
        "print(\"calculate=\", b)\n",
        "\n",
        "b = np.dot(A,x)\n",
        "print(\"dot=\", b)\n",
        "\n",
        "b = np.matmul(A,x)\n",
        "print(\"matmul=\", b)\n",
        "\n",
        "b = A@x\n",
        "print(\"A@x=\", b)\n",
        "\n",
        "b = A*x\n",
        "print(\"A*x=\", b)"
      ],
      "metadata": {
        "colab": {
          "base_uri": "https://localhost:8080/"
        },
        "id": "aOUwvZTtRv3a",
        "outputId": "93eb0397-6c70-49ed-b542-91cd30b28041"
      },
      "execution_count": 17,
      "outputs": [
        {
          "output_type": "stream",
          "name": "stdout",
          "text": [
            "calculate= [15 19 26 44]\n",
            "dot= [15 19 26 44]\n",
            "matmul= [15 19 26 44]\n",
            "A@x= [15 19 26 44]\n",
            "A*x= [[ 1  8  6  0]\n",
            " [ 9 10  0  0]\n",
            " [ 4  0  6 16]\n",
            " [ 6  2 24 12]]\n"
          ]
        }
      ]
    }
  ]
}