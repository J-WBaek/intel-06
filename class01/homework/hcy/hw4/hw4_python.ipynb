{
  "nbformat": 4,
  "nbformat_minor": 0,
  "metadata": {
    "colab": {
      "provenance": []
    },
    "kernelspec": {
      "name": "python3",
      "display_name": "Python 3"
    },
    "language_info": {
      "name": "python"
    }
  },
  "cells": [
    {
      "cell_type": "code",
      "execution_count": null,
      "metadata": {
        "colab": {
          "base_uri": "https://localhost:8080/"
        },
        "id": "JzwcOd6ejgh9",
        "outputId": "5a5b4cbf-550e-4e25-cbbd-5c3b176a6de9"
      },
      "outputs": [
        {
          "output_type": "stream",
          "name": "stdout",
          "text": [
            "('A', 'B', 'C') <class 'tuple'>\n"
          ]
        }
      ],
      "source": [
        "A = ('A', 'B')\n",
        "B = ('C',)\n",
        "C = A + B\n",
        "print(C, type(C))"
      ]
    },
    {
      "cell_type": "code",
      "source": [
        "import numpy as np\n",
        "nn = int(input())\n",
        "A = np.zeros((nn,nn))\n",
        "for ii in range(nn):\n",
        "  for jj in range(nn):\n",
        "    A[ii][jj] = ii*nn+jj+1\n",
        "print(A)"
      ],
      "metadata": {
        "colab": {
          "base_uri": "https://localhost:8080/"
        },
        "id": "r4OUQttDj-66",
        "outputId": "baa73b16-c619-43b7-e440-dbb8add98655"
      },
      "execution_count": null,
      "outputs": [
        {
          "output_type": "stream",
          "name": "stdout",
          "text": [
            "5\n",
            "[[ 1.  2.  3.  4.  5.]\n",
            " [ 6.  7.  8.  9. 10.]\n",
            " [11. 12. 13. 14. 15.]\n",
            " [16. 17. 18. 19. 20.]\n",
            " [21. 22. 23. 24. 25.]]\n"
          ]
        }
      ]
    },
    {
      "cell_type": "code",
      "source": [
        "import numpy as np\n",
        "nn = int(input())\n",
        "A = np.zeros((nn,nn))\n",
        "for ii in range(nn):\n",
        "  for jj in range(nn):\n",
        "    A[ii][jj] = ii*nn+jj+1\n",
        "print(A)\n",
        "B = A.reshape(-1,)\n",
        "print(B)"
      ],
      "metadata": {
        "colab": {
          "base_uri": "https://localhost:8080/"
        },
        "id": "nUvXc6yIk0LR",
        "outputId": "5a8e9e53-68b1-43e0-d7d8-3864e9a27020"
      },
      "execution_count": null,
      "outputs": [
        {
          "output_type": "stream",
          "name": "stdout",
          "text": [
            "3\n",
            "[[1. 2. 3.]\n",
            " [4. 5. 6.]\n",
            " [7. 8. 9.]]\n",
            "[1. 2. 3. 4. 5. 6. 7. 8. 9.]\n"
          ]
        }
      ]
    },
    {
      "cell_type": "code",
      "source": [
        "import cv2\n",
        "import numpy as np\n",
        "img = cv2.imread(\"Lenna.png\")\n",
        "print(\"original \", img.shape)\n",
        "img1 = np.expand_dims(img, 0)\n",
        "img2 = np.transpose(img1, (0, 3, 1, 2))\n",
        "print(\"expand\", img1.shape)\n",
        "print(\"transpose\",img2.shape)"
      ],
      "metadata": {
        "colab": {
          "base_uri": "https://localhost:8080/"
        },
        "id": "KDEJZU_Ck-1x",
        "outputId": "babae794-18fe-4cf9-b70f-817371756273"
      },
      "execution_count": 1,
      "outputs": [
        {
          "output_type": "stream",
          "name": "stdout",
          "text": [
            "original  (225, 225, 3)\n",
            "expand (1, 225, 225, 3)\n",
            "transpose (1, 3, 225, 225)\n"
          ]
        }
      ]
    },
    {
      "cell_type": "code",
      "source": [],
      "metadata": {
        "id": "QPWEk57a8lwb"
      },
      "execution_count": null,
      "outputs": []
    }
  ]
}